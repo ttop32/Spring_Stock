{
 "cells": [
  {
   "cell_type": "code",
   "execution_count": 1,
   "id": "eadcb2e6-fe77-4a11-8af8-776d0b55cb57",
   "metadata": {},
   "outputs": [
    {
     "name": "stdout",
     "output_type": "stream",
     "text": [
      "os             : Linux-5.4.0-122-generic-x86_64-with-glibc2.27\n",
      "python         : 3.9.7\n",
      "tsai           : 0.2.24\n",
      "fastai         : 2.7.5\n",
      "fastcore       : 1.4.5\n",
      "torch          : 1.10.2\n",
      "n_cpus         : 16\n",
      "device         : cuda (NVIDIA GeForce RTX 3060)\n"
     ]
    },
    {
     "data": {
      "text/plain": [
       "True"
      ]
     },
     "execution_count": 1,
     "metadata": {},
     "output_type": "execute_result"
    }
   ],
   "source": [
    "# library import-------------------------------------------\n",
    "\n",
    "\n",
    "import os\n",
    "# os.environ[\"CUDA_VISIBLE_DEVICES\"] = \"\"\n",
    "\n",
    "\n",
    "import time\n",
    "from pathlib import Path\n",
    "\n",
    "import FinanceDataReader as fdr\n",
    "import pandas as pd\n",
    "import pandas_ta as ta\n",
    "import torch\n",
    "from pykrx import stock\n",
    "from sklearn.metrics import classification_report\n",
    "from tqdm import tqdm\n",
    "\n",
    "from tsai.all import *\n",
    "\n",
    "my_setup()\n",
    "torch.cuda.is_available()"
   ]
  },
  {
   "cell_type": "code",
   "execution_count": 2,
   "id": "09cc53d5-693d-47db-91d0-2cffc456e9e6",
   "metadata": {},
   "outputs": [],
   "source": [
    "# data load###########################################################    \n",
    "\n",
    "#npy load\n",
    "predictDayAbove=1\n",
    "testDateStop='2022-07-01'\n",
    "npyPath=Path(f\"preprocess2_date{testDateStop}_day{predictDayAbove}\")\n",
    "sampleListKey=[\"X\",\"y\",\"trainIndex\",\"testIndex\",\"ticker\",\"yDate\", \"unlabelX\",\"unlabelTicker\",\"unlabelDate\"]\n",
    "sampleListDict={key:[] for key in sampleListKey}\n",
    "for key in sampleListKey:\n",
    "    sampleListDict[key] = np.load(npyPath/f'pykrx_1_{key}.npy')\n",
    "      \n",
    "        \n",
    "#splits\n",
    "sampleListDict[\"testIndex\"]=list(sampleListDict[\"testIndex\"])\n",
    "sampleListDict[\"trainIndex\"]=list(sampleListDict[\"trainIndex\"])\n",
    "splits=[sampleListDict[\"trainIndex\"],sampleListDict[\"testIndex\"]]\n",
    "\n",
    "# X y\n",
    "baseNum = 0.002\n",
    "X = sampleListDict[\"X\"]\n",
    "y = sampleListDict[\"y\"]\n",
    "y_cat = sampleListDict[\"y\"] > baseNum\n",
    "\n",
    "\n",
    "# class_weights\n",
    "n_1 = np.count_nonzero(y_cat[sampleListDict[\"trainIndex\"]])\n",
    "n_0 = len(sampleListDict[\"trainIndex\"]) - n_1\n",
    "w_0 = (n_0 + n_1) / (2.0 * n_0)\n",
    "w_1 = (n_0 + n_1) / (2.0 * n_1)\n",
    "class_weights = torch.FloatTensor([w_0, w_1]).cuda()\n",
    "\n",
    "\n",
    "#test\n",
    "XTest=sampleListDict[\"X\"][sampleListDict[\"testIndex\"]]\n",
    "yTest=sampleListDict[\"y\"][sampleListDict[\"testIndex\"]]\n",
    "tickerTest=sampleListDict[\"ticker\"][sampleListDict[\"testIndex\"]]\n",
    "dateTest=sampleListDict[\"yDate\"][sampleListDict[\"testIndex\"]]\n",
    "lastClosePriceTest=XTest[:,0,-1]\n",
    "\n",
    "#unlabel\n",
    "XUnlabel=sampleListDict[\"unlabelX\"]\n",
    "tickerUnlabel=sampleListDict[\"unlabelTicker\"]\n",
    "dateUnlabel=sampleListDict[\"unlabelDate\"]\n",
    "lastClosePriceUnlabel=XUnlabel[:,0,-1]\n",
    "\n",
    "\n",
    "\n",
    "#model test func\n",
    "def printResult(test_probas,yPred,yTarget,yReg):\n",
    "    expectedEarningPerDayWithPred=np.mean(yReg[yPred])*100\n",
    "    expectedEarningPerDayWithAllBuy=np.mean(yReg)*100\n",
    "    print(f\"probas_min:{np.min(test_probas):.4f} probas_max:{np.max(test_probas):.4f}\")\n",
    "    print(f\"truePredCount:{yReg[yPred].shape[0]}\")\n",
    "    print(f\"expectedEarningPerDayWithPred:{expectedEarningPerDayWithPred:.4f}%\")\n",
    "    print(f\"expectedEarningPerDayWithAllBuy:{expectedEarningPerDayWithAllBuy:.4f}%\")\n",
    "    print(classification_report(yTarget, yPred))\n",
    "\n",
    "    \n",
    "    "
   ]
  },
  {
   "cell_type": "code",
   "execution_count": 3,
   "id": "2e7d9d16-00e0-4853-bc4d-790466c4d541",
   "metadata": {},
   "outputs": [
    {
     "data": {
      "text/plain": [
       "<fastai.learner.Learner at 0x7f9f170498e0>"
      ]
     },
     "execution_count": 3,
     "metadata": {},
     "output_type": "execute_result"
    }
   ],
   "source": [
    "#load model\n",
    "PATH = Path('./models/regression.pkl')\n",
    "learn = load_learner(PATH, cpu=True)\n"
   ]
  },
  {
   "cell_type": "code",
   "execution_count": 5,
   "id": "3fc2e195-79ad-4197-aefe-b38e81cf641a",
   "metadata": {},
   "outputs": [
    {
     "data": {
      "text/html": [],
      "text/plain": [
       "<IPython.core.display.HTML object>"
      ]
     },
     "metadata": {},
     "output_type": "display_data"
    },
    {
     "name": "stdout",
     "output_type": "stream",
     "text": [
      "probas_min:-0.0152 probas_max:0.0109\n",
      "truePredCount:3361\n",
      "expectedEarningPerDayWithPred:0.1414%\n",
      "expectedEarningPerDayWithAllBuy:-0.1043%\n",
      "              precision    recall  f1-score   support\n",
      "\n",
      "       False       0.59      0.96      0.73     50376\n",
      "        True       0.46      0.04      0.08     35269\n",
      "\n",
      "    accuracy                           0.59     85645\n",
      "   macro avg       0.53      0.50      0.41     85645\n",
      "weighted avg       0.54      0.59      0.46     85645\n",
      "\n"
     ]
    }
   ],
   "source": [
    "#predicted result's mean earning\n",
    " \n",
    "test_probas, _, preds = learn.get_X_preds(X[sampleListDict[\"testIndex\"]])\n",
    "\n",
    "    \n",
    "base=0.002\n",
    "test_probas=test_probas.numpy()[:,0]\n",
    "yPred=test_probas>base\n",
    "yTarget=y[sampleListDict[\"testIndex\"]]>base\n",
    "yReg=y[sampleListDict[\"testIndex\"]]\n",
    "\n",
    "printResult(test_probas,yPred,yTarget,yReg)\n"
   ]
  },
  {
   "cell_type": "code",
   "execution_count": null,
   "id": "98290e83-ed10-4948-b8b9-eea090fe82ef",
   "metadata": {},
   "outputs": [],
   "source": []
  }
 ],
 "metadata": {
  "kernelspec": {
   "display_name": "Python [conda env:stylegan3]",
   "language": "python",
   "name": "conda-env-stylegan3-py"
  },
  "language_info": {
   "codemirror_mode": {
    "name": "ipython",
    "version": 3
   },
   "file_extension": ".py",
   "mimetype": "text/x-python",
   "name": "python",
   "nbconvert_exporter": "python",
   "pygments_lexer": "ipython3",
   "version": "3.9.7"
  }
 },
 "nbformat": 4,
 "nbformat_minor": 5
}
