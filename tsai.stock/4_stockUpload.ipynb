{
 "cells": [
  {
   "cell_type": "code",
   "execution_count": 2,
   "id": "408289b1-ff2e-4785-898b-28e78d18d483",
   "metadata": {},
   "outputs": [
    {
     "name": "stdout",
     "output_type": "stream",
     "text": [
      "csv download\n",
      "941\n",
      "['095570', '006840', '027410', '282330', '138930', '001460', '001465', '001040', '079160', '00104K']\n"
     ]
    },
    {
     "data": {
      "application/vnd.jupyter.widget-view+json": {
       "model_id": "8b48348acb9a4d5999cd13685179d25f",
       "version_major": 2,
       "version_minor": 0
      },
      "text/plain": [
       "  0%|          | 0/941 [00:00<?, ?it/s]"
      ]
     },
     "metadata": {},
     "output_type": "display_data"
    },
    {
     "name": "stdout",
     "output_type": "stream",
     "text": [
      "preprocess1\n"
     ]
    },
    {
     "name": "stderr",
     "output_type": "stream",
     "text": [
      "100%|█████████████████████████████████████████| 943/943 [00:09<00:00, 95.56it/s]\n"
     ]
    },
    {
     "name": "stdout",
     "output_type": "stream",
     "text": [
      "preprocess2\n"
     ]
    },
    {
     "data": {
      "application/vnd.jupyter.widget-view+json": {
       "model_id": "8d83cd4db30e4ae9b63f9d072358a51d",
       "version_major": 2,
       "version_minor": 0
      },
      "text/plain": [
       "  0%|          | 0/943 [00:00<?, ?it/s]"
      ]
     },
     "metadata": {},
     "output_type": "display_data"
    },
    {
     "name": "stdout",
     "output_type": "stream",
     "text": [
      "https://springstock.ddnsfree.com/api/\n"
     ]
    },
    {
     "data": {
      "text/html": [
       "\n",
       "<style>\n",
       "    /* Turns off some styling */\n",
       "    progress {\n",
       "        /* gets rid of default border in Firefox and Opera. */\n",
       "        border: none;\n",
       "        /* Needs to be in here for Safari polyfill so background images work as expected. */\n",
       "        background-size: auto;\n",
       "    }\n",
       "    progress:not([value]), progress:not([value])::-webkit-progress-bar {\n",
       "        background: repeating-linear-gradient(45deg, #7e7e7e, #7e7e7e 10px, #5c5c5c 10px, #5c5c5c 20px);\n",
       "    }\n",
       "    .progress-bar-interrupted, .progress-bar-interrupted::-webkit-progress-bar {\n",
       "        background: #F44336;\n",
       "    }\n",
       "</style>\n"
      ],
      "text/plain": [
       "<IPython.core.display.HTML object>"
      ]
     },
     "metadata": {},
     "output_type": "display_data"
    },
    {
     "data": {
      "text/html": [],
      "text/plain": [
       "<IPython.core.display.HTML object>"
      ]
     },
     "metadata": {},
     "output_type": "display_data"
    },
    {
     "data": {
      "text/html": [
       "\n",
       "<style>\n",
       "    /* Turns off some styling */\n",
       "    progress {\n",
       "        /* gets rid of default border in Firefox and Opera. */\n",
       "        border: none;\n",
       "        /* Needs to be in here for Safari polyfill so background images work as expected. */\n",
       "        background-size: auto;\n",
       "    }\n",
       "    progress:not([value]), progress:not([value])::-webkit-progress-bar {\n",
       "        background: repeating-linear-gradient(45deg, #7e7e7e, #7e7e7e 10px, #5c5c5c 10px, #5c5c5c 20px);\n",
       "    }\n",
       "    .progress-bar-interrupted, .progress-bar-interrupted::-webkit-progress-bar {\n",
       "        background: #F44336;\n",
       "    }\n",
       "</style>\n"
      ],
      "text/plain": [
       "<IPython.core.display.HTML object>"
      ]
     },
     "metadata": {},
     "output_type": "display_data"
    },
    {
     "data": {
      "text/html": [],
      "text/plain": [
       "<IPython.core.display.HTML object>"
      ]
     },
     "metadata": {},
     "output_type": "display_data"
    },
    {
     "name": "stdout",
     "output_type": "stream",
     "text": [
      "probas_min:-0.0149 probas_max:0.0146\n",
      "truePredCount:2656\n",
      "expectedEarningPerDayWithPred:-0.2221%\n",
      "expectedEarningPerDayWithAllBuy:-0.7285%\n",
      "              precision    recall  f1-score   support\n",
      "\n",
      "       False       0.68      0.84      0.75     10149\n",
      "        True       0.40      0.21      0.27      5055\n",
      "\n",
      "    accuracy                           0.63     15204\n",
      "   macro avg       0.54      0.53      0.51     15204\n",
      "weighted avg       0.59      0.63      0.59     15204\n",
      "\n"
     ]
    }
   ],
   "source": [
    "import stock_util\n",
    "import web_util\n",
    "\n",
    "trainDateStart='2014-01-01'\n",
    "trainDateStop='2022-01-01'\n",
    "# testDateStop='2070-01-01'\n",
    "testDateStop='2022-07-01'\n",
    "uploadDateStart='2022-06-01'\n",
    "\n",
    "windowLength=50                  #input 50 days\n",
    "predictDayAbove=1                #predict next 1 day above, pct change\n",
    "\n",
    "baseDir=\"./base\"\n",
    "modelPath=\"./models/regression.pkl\"\n",
    "\n",
    "pykrxPath, preprocess1Path, preprocess2Path=stock_util.creaetDir(baseDir, testDateStop,predictDayAbove)\n",
    "stock_util.downloadCsvPykrxAll(trainDateStart,testDateStop,pykrxPath)\n",
    "stock_util.preprocess1(trainDateStart,testDateStop,pykrxPath,preprocess1Path)\n",
    "stock_util.preprocess2(trainDateStart,trainDateStop,testDateStop,predictDayAbove,windowLength,preprocess1Path,preprocess2Path)\n",
    "\n",
    "\n",
    "#base url\n",
    "baseUrl=\"https://springstock.ddnsfree.com/api/\"\n",
    "web_util.changeBaseUrl(baseUrl)\n",
    "# userId,userPw=web_util.getJsonIdPW(baseDir)\n",
    "# userId,userPw=\"\",\"\"\n",
    "# web_util.login(userId,userPw)\n",
    "# web_util.checkLoginStatus()\n",
    "# web_util.uploadOhlcv(preprocess1Path,uploadDateStart)\n",
    "\n",
    "tickerTest,dateTest,closePredictTest  =stock_util.predict(preprocess2Path,modelPath,uploadDateStart)\n",
    "# web_util.uploadPredict(tickerTest, dateTest, closePredictTest)\n",
    "\n"
   ]
  },
  {
   "cell_type": "code",
   "execution_count": null,
   "id": "43416fef-af6e-408c-98d9-b88c97b00654",
   "metadata": {},
   "outputs": [
    {
     "name": "stdout",
     "output_type": "stream",
     "text": [
      "Sending build context to Docker daemon  8.408GB\r"
     ]
    }
   ],
   "source": [
    "!docker build -t ttop324/fastai.stock:latest .\n",
    "!docker push ttop324/fastai.stock:latest\n",
    "\n",
    "# !docker-compose up --build\n",
    "# docker-compose -f ./docker-compose-python.yml up --build\n",
    "# !docker-compose up --build -d\n",
    "\n",
    "# docker build -t dockerpp .\n",
    "# docker run --name dockerp dockerpp\n",
    "# docker exec -it 3ba187c8cea4 /bin/bash\n",
    "# docker container prune -f #stopped containner remove\n",
    "# docker image prune # remove images"
   ]
  },
  {
   "cell_type": "code",
   "execution_count": null,
   "id": "4701a9d7-b4d6-4a2f-beed-314bea3f1c40",
   "metadata": {},
   "outputs": [],
   "source": []
  }
 ],
 "metadata": {
  "kernelspec": {
   "display_name": "Python [conda env:docker6]",
   "language": "python",
   "name": "conda-env-docker6-py"
  },
  "language_info": {
   "codemirror_mode": {
    "name": "ipython",
    "version": 3
   },
   "file_extension": ".py",
   "mimetype": "text/x-python",
   "name": "python",
   "nbconvert_exporter": "python",
   "pygments_lexer": "ipython3",
   "version": "3.8.13"
  }
 },
 "nbformat": 4,
 "nbformat_minor": 5
}
